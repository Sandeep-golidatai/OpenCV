{
 "cells": [
  {
   "cell_type": "markdown",
   "id": "f44ad3d8",
   "metadata": {},
   "source": [
    "# Car & Pedestrian Detection"
   ]
  },
  {
   "cell_type": "markdown",
   "id": "51ee15a9",
   "metadata": {},
   "source": [
    "### Pedistrian Detection"
   ]
  },
  {
   "cell_type": "code",
   "execution_count": 10,
   "id": "4ba05306",
   "metadata": {},
   "outputs": [],
   "source": [
    "import cv2\n",
    "import numpy as np"
   ]
  },
  {
   "cell_type": "code",
   "execution_count": 14,
   "id": "06f50c9b",
   "metadata": {},
   "outputs": [],
   "source": [
    "body_classifier=cv2.CascadeClassifier(r\"H:\\Sandeep\\DATA SCIENCE\\PSP-CNN\\Face Detection\\Hassrcascade files\\haarcascade_fullbody.xml\")\n",
    "cap=cv2.VideoCapture(\"H:\\Sandeep\\DATA SCIENCE\\DATA SCIENTIST-PSP\\senapati notes\\highway.mp4\")\n",
    "while cap.isOpened():\n",
    "    time.sleep(0.05)\n",
    "    _,frame=cap.read()\n",
    "    gray=cv2.cvtColor(frame,cv2.COLOR_BGR2GRAY)\n",
    "    bodies=body_classifier.detectMultiScale(gray,1.2,3)\n",
    "    for (x,y,w,h) in bodies:\n",
    "        cv2.rectangle(frame,(x,y),(x+w,y+h),(0,255,255),2)\n",
    "        cv2.imshow(\"pedestrian\",frame)\n",
    "    if cv2.waitKey(1)& 0xFF == ord('q') :\n",
    "        break\n",
    "cap.release()\n",
    "cv2.destroyAllWindows()"
   ]
  },
  {
   "cell_type": "markdown",
   "id": "9d479f6f",
   "metadata": {},
   "source": [
    "## Car Detection"
   ]
  },
  {
   "cell_type": "code",
   "execution_count": 12,
   "id": "b0ed4932",
   "metadata": {},
   "outputs": [],
   "source": [
    "import cv2\n",
    "import time\n",
    "import numpy as np"
   ]
  },
  {
   "cell_type": "code",
   "execution_count": 13,
   "id": "17371202",
   "metadata": {},
   "outputs": [],
   "source": [
    "car_classifier=cv2.CascadeClassifier(r\"haarcascade_car.xml\")\n",
    "cap=cv2.VideoCapture(r\"H:\\Sandeep\\DATA SCIENCE\\DATA SCIENTIST-PSP\\senapati notes\\los_angeles.mp4\")\n",
    "while cap.isOpened():\n",
    "    time.sleep(0.05)\n",
    "    _,frame=cap.read()\n",
    "    gray = cv2.cvtColor(frame, cv2.COLOR_BGR2GRAY)\n",
    "    cars=car_classifier.detectMultiScale(gray,1.4,2)\n",
    "    for (x,y,w,h) in cars:\n",
    "        cv2.rectangle(frame,(x,y),(x+w,y+h),(0,255,0),2)\n",
    "        cv2.imshow(\"cars\",frame)\n",
    "    if cv2.waitKey(1) & 0XFF==ord(\"q\"):\n",
    "        break\n",
    "cap.release()\n",
    "cv2.destroyAllWindows()\n"
   ]
  },
  {
   "cell_type": "code",
   "execution_count": 5,
   "id": "a1db7a48",
   "metadata": {},
   "outputs": [],
   "source": [
    "import cv2\n",
    "import time\n",
    "import numpy as np"
   ]
  },
  {
   "cell_type": "code",
   "execution_count": 6,
   "id": "497b5fcc",
   "metadata": {},
   "outputs": [],
   "source": [
    "# car_classifier=cv2.CascadeClassifier(r\"haarcascade_car.xml\")\n",
    "# body_classifier=cv2.CascadeClassifier(r\"H:\\Sandeep\\DATA SCIENCE\\PSP-CNN\\Face Detection\\Hassrcascade files\\haarcascade_fullbody.xml\")\n",
    "# cap=cv2.VideoCapture(\"H:\\Sandeep\\DATA SCIENCE\\DATA SCIENTIST-PSP\\senapati notes\\highway.mp4\")\n",
    "\n",
    "# # cap=cv2.VideoCapture(r\"H:\\Sandeep\\DATA SCIENCE\\DATA SCIENTIST-PSP\\senapati notes\\los_angeles.mp4\")\n",
    "# while cap.isOpened():\n",
    "# #     time.sleep(0.05)\n",
    "#     _,frame=cap.read()\n",
    "#     gray = cv2.cvtColor(frame, cv2.COLOR_BGR2GRAY)\n",
    "#     cars=car_classifier.detectMultiScale(gray,1.4,2)\n",
    "#     for (x,y,w,h) in cars:\n",
    "#         cv2.rectangle(frame,(x,y),(x+w,y+h),(0,255,0),2)\n",
    "#         cv2.imshow(\"cars\",frame)\n",
    "# #     if cv2.waitKey(1) & 0XFF==ord(\"q\"):\n",
    "# #     _,frame=cap.read()\n",
    "# #     gray = cv2.cvtColor(frame, cv2.COLOR_BGR2GRAY)\n",
    "#     bodies=body_classifier.detectMultiScale(gray,1.2,3)\n",
    "#     for (x,y,w,h) in bodies:\n",
    "#         cv2.rectangle(frame,(x,y),(x+w,y+h),(0,255,255),2)\n",
    "#         cv2.imshow(\"pedestrian\",frame)\n",
    "#     if cv2.waitKey(1)& 0xFF == ord('q') :\n",
    "#             break\n",
    "# cap.release()\n",
    "# cv2.destroyAllWindows()\n"
   ]
  },
  {
   "cell_type": "code",
   "execution_count": null,
   "id": "dae9f8d3",
   "metadata": {},
   "outputs": [],
   "source": []
  }
 ],
 "metadata": {
  "kernelspec": {
   "display_name": "Python 3 (ipykernel)",
   "language": "python",
   "name": "python3"
  },
  "language_info": {
   "codemirror_mode": {
    "name": "ipython",
    "version": 3
   },
   "file_extension": ".py",
   "mimetype": "text/x-python",
   "name": "python",
   "nbconvert_exporter": "python",
   "pygments_lexer": "ipython3",
   "version": "3.11.5"
  }
 },
 "nbformat": 4,
 "nbformat_minor": 5
}
